{
 "cells": [
  {
   "cell_type": "code",
   "execution_count": 0,
   "metadata": {
    "colab": {},
    "colab_type": "code",
    "id": "NH6nK8oD4SzY"
   },
   "outputs": [],
   "source": [
    "%tensorflow_version 1.x\n",
    "import tensorflow as tf"
   ]
  },
  {
   "cell_type": "code",
   "execution_count": 9,
   "metadata": {
    "colab": {
     "base_uri": "https://localhost:8080/",
     "height": 34
    },
    "colab_type": "code",
    "executionInfo": {
     "elapsed": 1392,
     "status": "ok",
     "timestamp": 1581234060656,
     "user": {
      "displayName": "Arshit Jain",
      "photoUrl": "https://lh3.googleusercontent.com/a-/AAuE7mCjJw5b2DEtm1kG2m3tm7CBvvx_v_O72V2rbH_Y=s64",
      "userId": "01847531808791292269"
     },
     "user_tz": -330
    },
    "id": "2SjwGsoO4ZR0",
    "outputId": "32fb2095-5674-4447-819c-02dd83182ac9"
   },
   "outputs": [
    {
     "name": "stdout",
     "output_type": "stream",
     "text": [
      "b'Arshit'\n"
     ]
    }
   ],
   "source": [
    "a=tf.constant(\"Arshit\")\n",
    "with tf.Session() as sess:\n",
    "  output=sess.run(a)\n",
    "  print(output)"
   ]
  },
  {
   "cell_type": "code",
   "execution_count": 5,
   "metadata": {
    "colab": {
     "base_uri": "https://localhost:8080/",
     "height": 34
    },
    "colab_type": "code",
    "executionInfo": {
     "elapsed": 1219,
     "status": "ok",
     "timestamp": 1581233989912,
     "user": {
      "displayName": "Arshit Jain",
      "photoUrl": "https://lh3.googleusercontent.com/a-/AAuE7mCjJw5b2DEtm1kG2m3tm7CBvvx_v_O72V2rbH_Y=s64",
      "userId": "01847531808791292269"
     },
     "user_tz": -330
    },
    "id": "8At0yiO44uXY",
    "outputId": "b6958b01-91fc-46b6-cd63-777cae657213"
   },
   "outputs": [
    {
     "data": {
      "text/plain": [
       "'1.15.0'"
      ]
     },
     "execution_count": 5,
     "metadata": {
      "tags": []
     },
     "output_type": "execute_result"
    }
   ],
   "source": [
    "tf.__version__"
   ]
  },
  {
   "cell_type": "code",
   "execution_count": 14,
   "metadata": {
    "colab": {
     "base_uri": "https://localhost:8080/",
     "height": 50
    },
    "colab_type": "code",
    "executionInfo": {
     "elapsed": 1104,
     "status": "ok",
     "timestamp": 1581234358745,
     "user": {
      "displayName": "Arshit Jain",
      "photoUrl": "https://lh3.googleusercontent.com/a-/AAuE7mCjJw5b2DEtm1kG2m3tm7CBvvx_v_O72V2rbH_Y=s64",
      "userId": "01847531808791292269"
     },
     "user_tz": -330
    },
    "id": "yksu5mNY4-F2",
    "outputId": "119168fb-44dd-44de-afe2-9facaaebb6c6"
   },
   "outputs": [
    {
     "data": {
      "text/plain": [
       "(<tf.Tensor 'Const_12:0' shape=() dtype=float32>,\n",
       " <tf.Tensor 'Const_13:0' shape=() dtype=int32>)"
      ]
     },
     "execution_count": 14,
     "metadata": {
      "tags": []
     },
     "output_type": "execute_result"
    }
   ],
   "source": [
    "a=tf.constant(3.0)\n",
    "b=tf.constant(4)\n",
    "a,b"
   ]
  },
  {
   "cell_type": "code",
   "execution_count": 17,
   "metadata": {
    "colab": {
     "base_uri": "https://localhost:8080/",
     "height": 34
    },
    "colab_type": "code",
    "executionInfo": {
     "elapsed": 1319,
     "status": "ok",
     "timestamp": 1581234448958,
     "user": {
      "displayName": "Arshit Jain",
      "photoUrl": "https://lh3.googleusercontent.com/a-/AAuE7mCjJw5b2DEtm1kG2m3tm7CBvvx_v_O72V2rbH_Y=s64",
      "userId": "01847531808791292269"
     },
     "user_tz": -330
    },
    "id": "yPEjq3og6IUU",
    "outputId": "368a716a-f9e4-4c6e-a9e9-2e97b21f540a"
   },
   "outputs": [
    {
     "name": "stdout",
     "output_type": "stream",
     "text": [
      "[3.0, 4]\n"
     ]
    }
   ],
   "source": [
    "sess=tf.Session()\n",
    "output=sess.run([a,b])\n",
    "print(output)\n",
    "sess.close()\n"
   ]
  },
  {
   "cell_type": "code",
   "execution_count": 19,
   "metadata": {
    "colab": {
     "base_uri": "https://localhost:8080/",
     "height": 34
    },
    "colab_type": "code",
    "executionInfo": {
     "elapsed": 1147,
     "status": "ok",
     "timestamp": 1581234489383,
     "user": {
      "displayName": "Arshit Jain",
      "photoUrl": "https://lh3.googleusercontent.com/a-/AAuE7mCjJw5b2DEtm1kG2m3tm7CBvvx_v_O72V2rbH_Y=s64",
      "userId": "01847531808791292269"
     },
     "user_tz": -330
    },
    "id": "wVyK_z_56dOA",
    "outputId": "025855c6-22ce-4c1c-cfa2-1472548d018e"
   },
   "outputs": [
    {
     "data": {
      "text/plain": [
       "12.0"
      ]
     },
     "execution_count": 19,
     "metadata": {
      "tags": []
     },
     "output_type": "execute_result"
    }
   ],
   "source": [
    "a=tf.constant(3.0)\n",
    "b=tf.constant(4.0)\n",
    "c=a*b\n",
    "sess=tf.Session()\n",
    "sess.run(c)"
   ]
  },
  {
   "cell_type": "code",
   "execution_count": 0,
   "metadata": {
    "colab": {},
    "colab_type": "code",
    "id": "ku2IP15Z60Bf"
   },
   "outputs": [],
   "source": [
    "sess.close()"
   ]
  },
  {
   "cell_type": "code",
   "execution_count": 0,
   "metadata": {
    "colab": {},
    "colab_type": "code",
    "id": "yna_uMhf66ui"
   },
   "outputs": [],
   "source": [
    "a=tf.placeholder(tf.int32)\n",
    "b=tf.placeholder(tf.int32)"
   ]
  },
  {
   "cell_type": "code",
   "execution_count": 25,
   "metadata": {
    "colab": {
     "base_uri": "https://localhost:8080/",
     "height": 34
    },
    "colab_type": "code",
    "executionInfo": {
     "elapsed": 1146,
     "status": "ok",
     "timestamp": 1581234921234,
     "user": {
      "displayName": "Arshit Jain",
      "photoUrl": "https://lh3.googleusercontent.com/a-/AAuE7mCjJw5b2DEtm1kG2m3tm7CBvvx_v_O72V2rbH_Y=s64",
      "userId": "01847531808791292269"
     },
     "user_tz": -330
    },
    "id": "hpWXzvT28N6h",
    "outputId": "23bdb707-692a-49a1-dbf2-c7bdf30a992f"
   },
   "outputs": [
    {
     "name": "stdout",
     "output_type": "stream",
     "text": [
      "[5 7 9]\n"
     ]
    }
   ],
   "source": [
    "c=a+b\n",
    "sess=tf.Session()\n",
    "out=sess.run(c,feed_dict={a:[1,2,3],b:[4,5,6]})\n",
    "print(out)"
   ]
  },
  {
   "cell_type": "code",
   "execution_count": 27,
   "metadata": {
    "colab": {
     "base_uri": "https://localhost:8080/",
     "height": 34
    },
    "colab_type": "code",
    "executionInfo": {
     "elapsed": 1232,
     "status": "ok",
     "timestamp": 1581235068700,
     "user": {
      "displayName": "Arshit Jain",
      "photoUrl": "https://lh3.googleusercontent.com/a-/AAuE7mCjJw5b2DEtm1kG2m3tm7CBvvx_v_O72V2rbH_Y=s64",
      "userId": "01847531808791292269"
     },
     "user_tz": -330
    },
    "id": "zdhIJgLn8biR",
    "outputId": "1c4ba9b6-096c-471f-b593-6dd50e686c34"
   },
   "outputs": [
    {
     "name": "stdout",
     "output_type": "stream",
     "text": [
      "[1 2 3 4 5]\n"
     ]
    }
   ],
   "source": [
    "li=[1,2,3,4,5]\n",
    "a=tf.constant(li)\n",
    "out=sess.run(a)\n",
    "print(out)\n"
   ]
  },
  {
   "cell_type": "code",
   "execution_count": 0,
   "metadata": {
    "colab": {},
    "colab_type": "code",
    "id": "3V2wv2IzBDbK"
   },
   "outputs": [],
   "source": [
    "sess.close()"
   ]
  },
  {
   "cell_type": "code",
   "execution_count": 31,
   "metadata": {
    "colab": {
     "base_uri": "https://localhost:8080/",
     "height": 50
    },
    "colab_type": "code",
    "executionInfo": {
     "elapsed": 2051,
     "status": "ok",
     "timestamp": 1581238952828,
     "user": {
      "displayName": "Arshit Jain",
      "photoUrl": "https://lh3.googleusercontent.com/a-/AAuE7mCjJw5b2DEtm1kG2m3tm7CBvvx_v_O72V2rbH_Y=s64",
      "userId": "01847531808791292269"
     },
     "user_tz": -330
    },
    "id": "myPxEf7F9B-W",
    "outputId": "ec7a2c10-1890-4bdf-fd54-2ce31e1326c6"
   },
   "outputs": [
    {
     "name": "stdout",
     "output_type": "stream",
     "text": [
      "[-5.9999996e-01 -2.9999995e-01  5.9604645e-08  3.0000007e-01\n",
      "  6.0000002e-01]\n"
     ]
    }
   ],
   "source": [
    "# y=b + w*x\n",
    "w=tf.Variable([.3],tf.float32)\n",
    "b=tf.Variable([-.9],tf.float32)\n",
    "x=tf.placeholder(tf.float32)\n",
    "\n",
    "linear_model = w*x + b\n",
    "\n",
    "init = tf.global_variables_initializer()\n",
    "sess=tf.Session()\n",
    "sess.run(init)\n",
    "print(sess.run(linear_model,{x:[1,2,3,4,5]}))"
   ]
  },
  {
   "cell_type": "code",
   "execution_count": 0,
   "metadata": {
    "colab": {},
    "colab_type": "code",
    "id": "8pkfGCdgA_9k"
   },
   "outputs": [],
   "source": []
  }
 ],
 "metadata": {
  "colab": {
   "authorship_tag": "ABX9TyOhDyF+dXjqZ3yKQZGL9BSI",
   "collapsed_sections": [],
   "name": "TF_Intro.ipynb",
   "provenance": []
  },
  "kernelspec": {
   "display_name": "Python 3",
   "language": "python",
   "name": "python3"
  },
  "language_info": {
   "codemirror_mode": {
    "name": "ipython",
    "version": 3
   },
   "file_extension": ".py",
   "mimetype": "text/x-python",
   "name": "python",
   "nbconvert_exporter": "python",
   "pygments_lexer": "ipython3",
   "version": "3.7.4"
  }
 },
 "nbformat": 4,
 "nbformat_minor": 1
}
